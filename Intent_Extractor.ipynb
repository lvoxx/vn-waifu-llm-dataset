{
 "cells": [
  {
   "cell_type": "code",
   "execution_count": 1,
   "id": "efa533ab-460c-440d-a20e-826298f771e1",
   "metadata": {},
   "outputs": [],
   "source": [
    "import json\n",
    "from collections import Counter\n",
    "from pathlib import Path"
   ]
  },
  {
   "cell_type": "code",
   "execution_count": 2,
   "id": "b149dae1-25c0-4256-8b62-979093c9d750",
   "metadata": {},
   "outputs": [],
   "source": [
    "# === CẤU HÌNH ===\n",
    "IS_SORTED = True\n",
    "FOLDER = \"./neutral\"\n",
    "FILE_PATH = Path(FOLDER) / \"waifu.json\"\n",
    "OUTPUT_PATH = FILE_PATH.parent / \"state_strategy.json\""
   ]
  },
  {
   "cell_type": "code",
   "execution_count": 3,
   "id": "0ecc65cd-da41-4423-9d6c-12e9ec36d9bf",
   "metadata": {},
   "outputs": [],
   "source": [
    "# === ĐỌC FILE JSON ===\n",
    "with open(FILE_PATH, \"r\", encoding=\"utf-8\") as f:\n",
    "    data = json.load(f)"
   ]
  },
  {
   "cell_type": "code",
   "execution_count": 4,
   "id": "c6c03dfa-0a29-4b3a-8053-050b79311839",
   "metadata": {},
   "outputs": [],
   "source": [
    "# === ĐẾM CÁC STATE KHÔNG RỖNG ===\n",
    "state_counts = Counter()\n",
    "for entry in data:\n",
    "    state = entry.get(\"state\")\n",
    "    if isinstance(state, list) and state:  # Bỏ qua nếu rỗng hoặc không phải list\n",
    "        key = tuple(sorted(state))  # Nếu muốn giữ nguyên thứ tự thì bỏ sorted()\n",
    "        state_counts[key] += 1"
   ]
  },
  {
   "cell_type": "code",
   "execution_count": 5,
   "id": "e9c9c0bf-a9e6-47e5-a1c2-6b9461718787",
   "metadata": {},
   "outputs": [],
   "source": [
    "# === CHUYỂN VỀ DANH SÁCH DICT ===\n",
    "result = [{\"state\": list(k), \"count\": v} for k, v in state_counts.items()]"
   ]
  },
  {
   "cell_type": "code",
   "execution_count": 6,
   "id": "4c0868b1-7eb1-43e4-ad48-e101d6e9f879",
   "metadata": {},
   "outputs": [],
   "source": [
    "# === SẮP XẾP THEO COUNT NẾU CẦN ===\n",
    "if IS_SORTED:\n",
    "    result.sort(key=lambda x: x[\"count\"], reverse=True)"
   ]
  },
  {
   "cell_type": "code",
   "execution_count": 7,
   "id": "84401ab9-7ee2-4d56-a5de-e5822a228a91",
   "metadata": {},
   "outputs": [
    {
     "name": "stdout",
     "output_type": "stream",
     "text": [
      "Đã ghi kết quả vào: neutral\\state_strategy.json\n"
     ]
    }
   ],
   "source": [
    "# === GHI FILE KẾT QUẢ ===\n",
    "with open(OUTPUT_PATH, \"w\", encoding=\"utf-8\") as f:\n",
    "    json.dump(result, f, ensure_ascii=False, indent=2)\n",
    "\n",
    "print(f\"Đã ghi kết quả vào: {OUTPUT_PATH}\")"
   ]
  }
 ],
 "metadata": {
  "kernelspec": {
   "display_name": "Python 3 (ipykernel)",
   "language": "python",
   "name": "python3"
  },
  "language_info": {
   "codemirror_mode": {
    "name": "ipython",
    "version": 3
   },
   "file_extension": ".py",
   "mimetype": "text/x-python",
   "name": "python",
   "nbconvert_exporter": "python",
   "pygments_lexer": "ipython3",
   "version": "3.13.0"
  }
 },
 "nbformat": 4,
 "nbformat_minor": 5
}
